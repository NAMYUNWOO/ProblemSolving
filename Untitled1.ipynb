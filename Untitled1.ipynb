{
 "cells": [
  {
   "cell_type": "code",
   "execution_count": 15,
   "metadata": {},
   "outputs": [
    {
     "name": "stdout",
     "output_type": "stream",
     "text": [
      "3\n",
      "4 10 20 30 40\n",
      "3 7 5 12\n",
      "3 125 15 25\n",
      "70\n",
      "3\n",
      "35\n"
     ]
    }
   ],
   "source": [
    "ansDict = dict();\n",
    "def getans(num1,num2):\n",
    "    global ansDict;\n",
    "    ans = 0\n",
    "    try:\n",
    "        ans = ansDict[(num1,num2)]\n",
    "    except:\n",
    "        pass\n",
    "    \n",
    "    if ans:\n",
    "        return ans\n",
    "    \n",
    "    if (num1%num2):\n",
    "        mode = num1%num2\n",
    "        tempAns = getans(num2,mode)\n",
    "        ansDict.update({(num1,num2):tempAns})\n",
    "        return ansDict[(num1,num2)]\n",
    "    else:\n",
    "        ansDict.update({(num1,num2):num2})\n",
    "        return num2\n",
    "        \n",
    "def solve(nums):\n",
    "    arrSize = len(nums)\n",
    "    ans  = 0\n",
    "    for i in range(arrSize):\n",
    "        for j in range(arrSize):\n",
    "            if i == j or i < j:\n",
    "                continue\n",
    "            ans += getans(max(nums[i],nums[j]),min(nums[i],nums[j]))\n",
    "    return ans\n",
    "\n",
    "def main():\n",
    "    t = int(input());\n",
    "    ansArr = []\n",
    "    for test in range(t):\n",
    "        nums = list(map(lambda x:int(x),input().strip().split(\" \")))[1:]\n",
    "        ans =solve(nums)\n",
    "        ansArr.append(ans)\n",
    "    for a in ansArr:\n",
    "        print(a)\n",
    "if __name__ == \"__main__\":\n",
    "    main()"
   ]
  },
  {
   "cell_type": "code",
   "execution_count": null,
   "metadata": {},
   "outputs": [],
   "source": []
  }
 ],
 "metadata": {
  "kernelspec": {
   "display_name": "Python [conda root]",
   "language": "python",
   "name": "conda-root-py"
  },
  "language_info": {
   "codemirror_mode": {
    "name": "ipython",
    "version": 3
   },
   "file_extension": ".py",
   "mimetype": "text/x-python",
   "name": "python",
   "nbconvert_exporter": "python",
   "pygments_lexer": "ipython3",
   "version": "3.5.4"
  }
 },
 "nbformat": 4,
 "nbformat_minor": 2
}
