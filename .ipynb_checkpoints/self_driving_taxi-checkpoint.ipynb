{
 "cells": [
  {
   "cell_type": "markdown",
   "metadata": {},
   "source": [
    "## 무인택시 배차 \n",
    "---\n",
    "K모빌리티는 수년간의 연구끝에 무인자율주행택시를 개발했다. 그리고 테스트목적으로 자율주행택시 **1대**를 서울,경기 지역에서 운행 하려고한다. 그런데 아직 시범운행이라서 택시는 예약제로 운행이된다. 즉, 택시Call정보를 테스트시작 전 이미 가지고 있다. K모빌리티 데이터과학자 윤우의 임무는 자율주행택시가 요금을 최대한 많이 받아오도록 만드는 것이다. 윤우를 도와 자율주행택시의 **수익 최대화** 알고리즘을 만들어보자.\n",
    "___\n",
    "### 입력\n",
    "입력의 첫째 줄에 모든 택시콜 **위치개수**($N$)와 &nbsp; **마지막택시콜 출발시간**($T$)이 주어진다.<br>\n",
    "입력의 둘째 줄부터 **$(N \\times N - N)\\times T$** 줄에 걸쳐 각 줄마다 아래와 같은 정보가 주어진다.<br>\n",
    "각 줄의 정보는 택시콜정보로써, **출발위치($P_{start}$), 목적지위치($P_{arrive}$), 출발시간($T_{start}$), 주행시간($T_{take}$), 요금($F$)** 가주어진다.<br>\n",
    "- 위치정보 $P$는 정수형이며, $1\\leq P_i\\leq100$ 이다<br>\n",
    "- 시간정보 $T$는 정수형이며, $1\\leq T_i\\leq100$ 이다<br>\n",
    "- 요금정보 $F$는 정수형이며, $0\\leq F_i\\leq100$ 이다<br>\n",
    "- $(P_{start},P_{arrive},T_{start})$의 모든 가능한 조합에 대한 $(T_{take},F)$이 주어질 것이다. ($P_{start},P_{arrive}$ 같은경우 제외)\n",
    "- 출발위치와 목적지위치가 같은 경우 $(T_{take},F) = (0,0)$ 이라고 가정한다. (입력에서는 주어지지 않음)\n",
    "- 요금과 주행시간이 비례하지만, 약간의 Noise가 있다.\n",
    "- 택시의 첫 운행 어느곳에서나 시작 가능하다.\n",
    "___\n",
    "### 출력\n",
    "운행을통해 얻을수있는 요금합의 최댓값과, 운행루트를 출력 2줄에 걸쳐 출력한다.(운행루트는 공백을 사이로 출력한다)"
   ]
  },
  {
   "cell_type": "markdown",
   "metadata": {},
   "source": [
    "---\n",
    "### 예제\n",
    "#### 입력\n",
    "    2 10\n",
    "    1 2 1 12 14\n",
    "    1 2 2 11 10\n",
    "    1 2 3 1 1\n",
    "    1 2 4 9 8\n",
    "    1 2 5 4 9\n",
    "    1 2 6 12 9\n",
    "    1 2 7 17 19\n",
    "    1 2 8 11 13\n",
    "    1 2 9 15 18\n",
    "    1 2 10 11 20\n",
    "    2 1 1 7 4\n",
    "    2 1 2 9 1\n",
    "    2 1 3 4 1\n",
    "    2 1 4 10 6\n",
    "    2 1 5 13 13\n",
    "    2 1 6 9 15\n",
    "    2 1 7 11 15\n",
    "    2 1 8 14 14\n",
    "    2 1 9 9 18\n",
    "    2 1 10 11 18\n",
    "#### 출력\n",
    "    27\n",
    "    1 1 1 1 1 2 1\n"
   ]
  },
  {
   "cell_type": "code",
   "execution_count": 99,
   "metadata": {},
   "outputs": [],
   "source": [
    "import random\n",
    "import numpy as np\n",
    "import sys\n",
    "sys.setrecursionlimit(100*100*10000)\n",
    "def EnvGenerator(N,T):\n",
    "    k = 0\n",
    "    Ts = np.random.normal(10, 3, T*N*N)\n",
    "    for P_start in range(1,N+1):\n",
    "        for P_arrive in range(1,N+1):\n",
    "            for T_i in range(1,T+1):\n",
    "                k += 1\n",
    "                if P_start == P_arrive:\n",
    "                    continue\n",
    "                else:\n",
    "                    T_take = min(max(int(Ts[k-1]),1),100)\n",
    "                    fair = min(max(int(np.random.normal(T_take,5,1)),1),100)\n",
    "                    \n",
    "                    yield (P_start,P_arrive,T_i,T_take,fair)"
   ]
  },
  {
   "cell_type": "markdown",
   "metadata": {},
   "source": [
    "### 문제 풀이\n",
    "$V(T,P)$ = T시에 P위치에서 얻을 수 있는 최대 수익 <br>\n",
    "$TF(T,P_{s},P_{a}) = $ $T$시에 $P_s$에서 출발하여 $P_a$에 도착할때 걸리는 \\[시간,요금\\], 2차원 벡터 \n",
    "$  \\begin{bmatrix}\n",
    "    t  \\\\\n",
    "    f \n",
    "  \\end{bmatrix} \\in \\mathbb{N}^{2}$\n",
    "<br>\n",
    "\n",
    "---\n",
    "#### 점화식 \n",
    "$$V(T,P_s) = \\max_{P_a}\\Big( [0,1 ] \\cdot TF(T,P_{s},P_{a}) + V\\big(T+[1,0] \\cdot TF(T,P_{s},P_{a}), P_a \\big)\\Big)$$"
   ]
  },
  {
   "cell_type": "code",
   "execution_count": 100,
   "metadata": {},
   "outputs": [],
   "source": [
    "N = 100; T = 100\n",
    "y = EnvGenerator(N,T)\n",
    "\"\"\"\n",
    "TF <- (T_take, fair) when Start from Ps to Pa in time T.\n",
    "\"\"\"\n",
    "TF = [[[(0,0) for _ in range(N+1)] for _ in range(N+1)] for _ in range(T+1)]\n",
    "\n",
    "\"\"\"\n",
    "V_tp <- optimal expected sum of fairs when the taxi initiates in time t at position p\n",
    "\"\"\"\n",
    "V_tp = [[-1 for _ in range(N+1)] for _ in range(T+1)]\n",
    "for _ in range((N*N-N)*T):\n",
    "    P_start,P_arrive,T_start,T_take,fair =next(y)\n",
    "    TF[T_start][P_start][P_arrive] = (T_take,fair)\n",
    "route_T_Ps = [[-1 for _ in range(N+1)] for _ in range(T+1)]\n",
    "first_val = -1\n",
    "first_loc = -1\n",
    "def V(t,ps):\n",
    "    global V_tp,TF,first_val,first_loc\n",
    "    if t > T:\n",
    "        return 0\n",
    "    if V_tp[t][ps] != -1:\n",
    "        return V_tp[t][ps]\n",
    "    max_val = V(t+1,ps)\n",
    "    max_pa = ps\n",
    "    for pa,tfs in enumerate(TF[t][ps]):\n",
    "        if pa == 0 or pa==ps:\n",
    "            continue\n",
    "        t_take,fair = tfs\n",
    "        val = fair + V(t+t_take,pa)\n",
    "        if val >= max_val:\n",
    "            max_val = val\n",
    "            max_pa = pa\n",
    "    V_tp[t][ps] = max_val\n",
    "    route_T_Ps[t][ps] = max_pa\n",
    "    if max_val > first_val:\n",
    "        first_val = max_val\n",
    "        first_loc = ps\n",
    "    return V_tp[t][ps] \n",
    "    "
   ]
  },
  {
   "cell_type": "code",
   "execution_count": 101,
   "metadata": {},
   "outputs": [],
   "source": [
    "ans = max([V(1,i) for i in range(1,N+1)])"
   ]
  },
  {
   "cell_type": "code",
   "execution_count": 102,
   "metadata": {},
   "outputs": [],
   "source": [
    "i = 1\n",
    "curloc = first_loc\n",
    "val_sum = 0\n",
    "visits = []\n",
    "earned = [0]\n",
    "while True:\n",
    "    visits.append(str(curloc))\n",
    "    nextloc=route_T_Ps[i][curloc]\n",
    "    fair_i=TF[i][curloc][nextloc][1]\n",
    "    earned.append(earned[-1]+fair_i)\n",
    "    val_sum += fair_i\n",
    "    i += max(TF[i][curloc][nextloc][0],1)\n",
    "    if val_sum == ans:\n",
    "        visits.append(str(nextloc))\n",
    "        break\n",
    "    curloc=nextloc"
   ]
  },
  {
   "cell_type": "code",
   "execution_count": 103,
   "metadata": {},
   "outputs": [
    {
     "name": "stdout",
     "output_type": "stream",
     "text": [
      "455\n",
      "75 41 27 27 32 79 69 80 80 1 85 73 70 43 42 42 7 32 55 43 36 6 84 84 67 81 81 97 97 61 27 70 33 24 38 31 15 72 86 50 50 43 85 56 28 37 31 31 1 47 59 37\n"
     ]
    }
   ],
   "source": [
    "print(ans)\n",
    "print(\" \".join(visits))"
   ]
  }
 ],
 "metadata": {
  "kernelspec": {
   "display_name": "Python [default]",
   "language": "python",
   "name": "python3"
  },
  "language_info": {
   "codemirror_mode": {
    "name": "ipython",
    "version": 3
   },
   "file_extension": ".py",
   "mimetype": "text/x-python",
   "name": "python",
   "nbconvert_exporter": "python",
   "pygments_lexer": "ipython3",
   "version": "3.5.4"
  }
 },
 "nbformat": 4,
 "nbformat_minor": 2
}
