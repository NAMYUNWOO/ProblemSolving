{
 "cells": [
  {
   "cell_type": "code",
   "execution_count": 3,
   "metadata": {},
   "outputs": [
    {
     "data": {
      "text/plain": []
     },
     "execution_count": 3,
     "metadata": {},
     "output_type": "execute_result"
    }
   ],
   "source": [
    "#include<iostream>\n",
    "#include<numeric>\n",
    "#include<iterator>\n",
    "#include<string>\n",
    "#include<memory>\n",
    "#include<set>\n",
    "#include<map>\n",
    "#include<vector>\n",
    "#include<algorithm>\n",
    "#include<functional>\n",
    "using namespace std;"
   ]
  },
  {
   "cell_type": "code",
   "execution_count": null,
   "metadata": {},
   "outputs": [],
   "source": [
    "auto pname3 = make_unique<string>(\"mystring\");"
   ]
  },
  {
   "cell_type": "code",
   "execution_count": null,
   "metadata": {},
   "outputs": [],
   "source": [
    "*pname3"
   ]
  },
  {
   "cell_type": "code",
   "execution_count": null,
   "metadata": {},
   "outputs": [],
   "source": [
    "size_t len{10};"
   ]
  },
  {
   "cell_type": "code",
   "execution_count": null,
   "metadata": {},
   "outputs": [],
   "source": [
    "size_t len1[11];"
   ]
  },
  {
   "cell_type": "code",
   "execution_count": null,
   "metadata": {},
   "outputs": [],
   "source": [
    "len1"
   ]
  },
  {
   "cell_type": "code",
   "execution_count": null,
   "metadata": {},
   "outputs": [],
   "source": [
    "sizeof(size_t)"
   ]
  },
  {
   "cell_type": "code",
   "execution_count": null,
   "metadata": {},
   "outputs": [],
   "source": [
    "size_t temp"
   ]
  },
  {
   "cell_type": "code",
   "execution_count": null,
   "metadata": {},
   "outputs": [],
   "source": [
    "temp"
   ]
  },
  {
   "cell_type": "code",
   "execution_count": null,
   "metadata": {},
   "outputs": [],
   "source": [
    "len"
   ]
  },
  {
   "cell_type": "code",
   "execution_count": null,
   "metadata": {},
   "outputs": [],
   "source": [
    "int ttt{10}"
   ]
  },
  {
   "cell_type": "code",
   "execution_count": null,
   "metadata": {},
   "outputs": [],
   "source": [
    "ttt"
   ]
  },
  {
   "cell_type": "code",
   "execution_count": null,
   "metadata": {},
   "outputs": [],
   "source": [
    "int arr[]          { 1,2,3,4,5 };\n",
    "std::vector<int> v { 1,2,3,4,5 };\n",
    "std::set<int> s    { 1,2,3,4,5 };\n",
    "std::map<int,std::string> m { {0,\"zero\"}, {1,\"one\"}, {2,\"two\"} };"
   ]
  },
  {
   "cell_type": "code",
   "execution_count": null,
   "metadata": {},
   "outputs": [],
   "source": [
    "arr"
   ]
  },
  {
   "cell_type": "code",
   "execution_count": null,
   "metadata": {},
   "outputs": [],
   "source": [
    "v"
   ]
  },
  {
   "cell_type": "code",
   "execution_count": null,
   "metadata": {},
   "outputs": [],
   "source": [
    "s"
   ]
  },
  {
   "cell_type": "code",
   "execution_count": null,
   "metadata": {},
   "outputs": [],
   "source": [
    "m[0] + \"sdfsdf\""
   ]
  },
  {
   "cell_type": "code",
   "execution_count": null,
   "metadata": {},
   "outputs": [],
   "source": [
    "vector<vector<int>> v2 = {{1,2,3},{4,5,6}}"
   ]
  },
  {
   "cell_type": "code",
   "execution_count": null,
   "metadata": {},
   "outputs": [],
   "source": [
    "v2[0][0]"
   ]
  },
  {
   "cell_type": "code",
   "execution_count": null,
   "metadata": {},
   "outputs": [],
   "source": [
    "int x{10}"
   ]
  },
  {
   "cell_type": "code",
   "execution_count": null,
   "metadata": {},
   "outputs": [],
   "source": [
    "size_t len = 10"
   ]
  },
  {
   "cell_type": "code",
   "execution_count": null,
   "metadata": {},
   "outputs": [],
   "source": [
    "unique_ptr<int[]> pnums {new int[len]}"
   ]
  },
  {
   "cell_type": "code",
   "execution_count": null,
   "metadata": {},
   "outputs": [],
   "source": [
    "pnums[0] = 1"
   ]
  },
  {
   "cell_type": "code",
   "execution_count": null,
   "metadata": {},
   "outputs": [],
   "source": [
    "pnums[10] = 11"
   ]
  },
  {
   "cell_type": "code",
   "execution_count": null,
   "metadata": {},
   "outputs": [],
   "source": [
    "pnums[114] = 11"
   ]
  },
  {
   "cell_type": "code",
   "execution_count": null,
   "metadata": {},
   "outputs": [],
   "source": [
    "pnums.reset();"
   ]
  },
  {
   "cell_type": "code",
   "execution_count": null,
   "metadata": {},
   "outputs": [],
   "source": [
    "pnums"
   ]
  },
  {
   "cell_type": "code",
   "execution_count": null,
   "metadata": {
    "scrolled": true
   },
   "outputs": [],
   "source": [
    "auto pname2 = make_unique<string>(\"asdf\")"
   ]
  },
  {
   "cell_type": "code",
   "execution_count": null,
   "metadata": {},
   "outputs": [],
   "source": [
    "pname2.reset(new string{\"12345\"})"
   ]
  },
  {
   "cell_type": "code",
   "execution_count": null,
   "metadata": {},
   "outputs": [],
   "source": [
    "auto up_name = make_unique<string>(\"algernon\")"
   ]
  },
  {
   "cell_type": "code",
   "execution_count": null,
   "metadata": {
    "scrolled": false
   },
   "outputs": [],
   "source": [
    "cout<<*up_name<<endl;"
   ]
  },
  {
   "cell_type": "code",
   "execution_count": null,
   "metadata": {},
   "outputs": [],
   "source": [
    "unique_ptr<string> up_new_name{up_name.release()}"
   ]
  },
  {
   "cell_type": "code",
   "execution_count": null,
   "metadata": {},
   "outputs": [],
   "source": [
    "cout<<*up_new_name<<endl;"
   ]
  },
  {
   "cell_type": "code",
   "execution_count": null,
   "metadata": {},
   "outputs": [],
   "source": [
    "if (up_name){\n",
    "    cout<<\"up_name\"<<*up_name<<endl;\n",
    "}\n",
    "if (!up_name){\n",
    "    cout<<\"up_new_name\"<<*up_new_name<<endl;\n",
    "}"
   ]
  },
  {
   "cell_type": "code",
   "execution_count": null,
   "metadata": {},
   "outputs": [],
   "source": [
    "class Volume\n",
    "{\n",
    "public:\n",
    "    double operator()(double x,double y,double z){\n",
    "        return x*y*z;\n",
    "    }\n",
    "}"
   ]
  },
  {
   "cell_type": "code",
   "execution_count": null,
   "metadata": {},
   "outputs": [],
   "source": [
    "Volume vol;\n",
    "double room{vol(3,4,6)}"
   ]
  },
  {
   "cell_type": "code",
   "execution_count": null,
   "metadata": {},
   "outputs": [],
   "source": [
    "room"
   ]
  },
  {
   "cell_type": "code",
   "execution_count": 2,
   "metadata": {},
   "outputs": [
    {
     "data": {
      "text/plain": []
     },
     "execution_count": 2,
     "metadata": {},
     "output_type": "execute_result"
    }
   ],
   "source": [
    "class Box\n",
    "{\n",
    "private:\n",
    "    double height;\n",
    "    double length;\n",
    "    double width;\n",
    "public:\n",
    "    Box(int h,int l,int w):height(h),length(l),width(w)\n",
    "    {}\n",
    "    int getLength()const{return length;}\n",
    "    int getWidth()const{return width;}\n",
    "    int getHeight()const{return height;}\n",
    "    \n",
    "}"
   ]
  },
  {
   "cell_type": "code",
   "execution_count": 3,
   "metadata": {
    "scrolled": true
   },
   "outputs": [
    {
     "data": {
      "text/plain": []
     },
     "execution_count": 3,
     "metadata": {},
     "output_type": "execute_result"
    }
   ],
   "source": [
    "Box box {4,5,6}"
   ]
  },
  {
   "cell_type": "code",
   "execution_count": 4,
   "metadata": {},
   "outputs": [
    {
     "data": {
      "text/plain": []
     },
     "execution_count": 4,
     "metadata": {},
     "output_type": "execute_result"
    }
   ],
   "source": [
    "class Volume3\n",
    "{\n",
    "public:\n",
    "    double operator()(double x,double y,double z){ return x*y*z;}\n",
    "    double operator()(const Box& box)\n",
    "    {\n",
    "        return box.getLength()*box.getWidth()*box.getHeight();\n",
    "    }\n",
    "}"
   ]
  },
  {
   "cell_type": "code",
   "execution_count": 5,
   "metadata": {},
   "outputs": [
    {
     "data": {
      "text/plain": []
     },
     "execution_count": 5,
     "metadata": {},
     "output_type": "execute_result"
    }
   ],
   "source": [
    "Box box2{3,4,5}"
   ]
  },
  {
   "cell_type": "code",
   "execution_count": 8,
   "metadata": {},
   "outputs": [
    {
     "data": {
      "text/plain": []
     },
     "execution_count": 8,
     "metadata": {},
     "output_type": "execute_result"
    }
   ],
   "source": [
    "Volume3 vol"
   ]
  },
  {
   "cell_type": "code",
   "execution_count": 9,
   "metadata": {},
   "outputs": [
    {
     "data": {
      "text/plain": [
       "(double) 60.000000\n"
      ]
     },
     "execution_count": 9,
     "metadata": {},
     "output_type": "execute_result"
    }
   ],
   "source": [
    "vol(box2)"
   ]
  },
  {
   "cell_type": "code",
   "execution_count": 10,
   "metadata": {},
   "outputs": [
    {
     "data": {
      "text/plain": [
       "(double) 512.00000\n"
      ]
     },
     "execution_count": 10,
     "metadata": {},
     "output_type": "execute_result"
    }
   ],
   "source": [
    "vol(8,8,8)"
   ]
  },
  {
   "cell_type": "code",
   "execution_count": 12,
   "metadata": {},
   "outputs": [
    {
     "data": {
      "text/plain": []
     },
     "execution_count": 12,
     "metadata": {},
     "output_type": "execute_result"
    }
   ],
   "source": [
    "template<typename ForwardIter,typename F>\n",
    "void change(ForwardIter first,ForwardIter end,F fun){\n",
    "    for (auto iter = first;iter != end;iter++){\n",
    "        *iter = fun(*iter);\n",
    "    }\n",
    "}"
   ]
  },
  {
   "cell_type": "code",
   "execution_count": null,
   "metadata": {},
   "outputs": [],
   "source": []
  },
  {
   "cell_type": "code",
   "execution_count": 5,
   "metadata": {
    "scrolled": true
   },
   "outputs": [
    {
     "name": "stderr",
     "output_type": "stream",
     "text": [
      "\u001b[1minput_line_10:2:14: \u001b[0m\u001b[0;1;31merror: \u001b[0m\u001b[1mredefinition of 'myvec'\u001b[0m\n",
      " vector<int> myvec {1,2,3,4,5};\n",
      "\u001b[0;1;32m             ^\n",
      "\u001b[0m\u001b[1minput_line_4:2:14: \u001b[0m\u001b[0;1;30mnote: \u001b[0mprevious definition is here\u001b[0m\n",
      " vector<int> myvec {1,2,3,4,5};\n",
      "\u001b[0;1;32m             ^\n",
      "\u001b[0m"
     ]
    },
    {
     "ename": "ename",
     "evalue": "evalue",
     "output_type": "error",
     "traceback": []
    }
   ],
   "source": [
    "vector<int> myvec {1,2,3,4,5};"
   ]
  },
  {
   "cell_type": "code",
   "execution_count": null,
   "metadata": {},
   "outputs": [],
   "source": []
  },
  {
   "cell_type": "code",
   "execution_count": 14,
   "metadata": {},
   "outputs": [
    {
     "data": {
      "text/plain": [
       "(void) @0x700008892db0\n"
      ]
     },
     "execution_count": 14,
     "metadata": {},
     "output_type": "execute_result"
    }
   ],
   "source": [
    "change(begin(myvec),end(myvec),[](int value){return value*value;});"
   ]
  },
  {
   "cell_type": "code",
   "execution_count": 5,
   "metadata": {},
   "outputs": [
    {
     "name": "stderr",
     "output_type": "stream",
     "text": [
      "\u001b[1minput_line_7:2:7: \u001b[0m\u001b[0;1;31merror: \u001b[0m\u001b[1mredefinition of 'pow' with a different type: '(lambda at input_line_7:2:14)' vs\n",
      "      '(lambda at input_line_3:2:14)'\u001b[0m\n",
      " auto pow =  [](double value){return value*value;}\n",
      "\u001b[0;1;32m      ^\n",
      "\u001b[0m\u001b[1minput_line_3:2:7: \u001b[0m\u001b[0;1;30mnote: \u001b[0mprevious definition is here\u001b[0m\n",
      " auto pow =  [](double value){return value*value;}\n",
      "\u001b[0;1;32m      ^\n",
      "\u001b[0m"
     ]
    },
    {
     "ename": "ename",
     "evalue": "evalue",
     "output_type": "error",
     "traceback": []
    }
   ],
   "source": [
    "auto pow =  [](double value){return value*value;}"
   ]
  },
  {
   "cell_type": "code",
   "execution_count": null,
   "metadata": {
    "scrolled": true
   },
   "outputs": [
    {
     "name": "stderr",
     "output_type": "stream",
     "text": [
      "\u001b[1minput_line_9:2:64: \u001b[0m\u001b[0;1;31merror: \u001b[0m\u001b[1mexpected ';' after return statement\u001b[0m\n",
      " function<double(double)> op {[](double value){return value+0.1}}\n",
      "\u001b[0;1;32m                                                               ^\n",
      "\u001b[0m\u001b[0;32m                                                               ;\n",
      "\u001b[0mIn file included from input_line_5:1:\n",
      "In file included from /Applications/Xcode.app/Contents/Developer/Toolchains/XcodeDefault.xctoolchain/usr/include/c++/v1/iostream:38:\n",
      "In file included from /Applications/Xcode.app/Contents/Developer/Toolchains/XcodeDefault.xctoolchain/usr/include/c++/v1/ios:216:\n",
      "In file included from /Applications/Xcode.app/Contents/Developer/Toolchains/XcodeDefault.xctoolchain/usr/include/c++/v1/__locale:15:\n",
      "In file included from /Applications/Xcode.app/Contents/Developer/Toolchains/XcodeDefault.xctoolchain/usr/include/c++/v1/string:470:\n",
      "In file included from /Applications/Xcode.app/Contents/Developer/Toolchains/XcodeDefault.xctoolchain/usr/include/c++/v1/string_view:171:\n",
      "In file included from /Applications/Xcode.app/Contents/Developer/Toolchains/XcodeDefault.xctoolchain/usr/include/c++/v1/__string:56:\n",
      "In file included from /Applications/Xcode.app/Contents/Developer/Toolchains/XcodeDefault.xctoolchain/usr/include/c++/v1/algorithm:640:\n",
      "\u001b[1m/Applications/Xcode.app/Contents/Developer/Toolchains/XcodeDefault.xctoolchain/usr/include/c++/v1/memory:2281:15: \u001b[0m\u001b[0;1;31merror: \u001b[0m\u001b[1mno matching constructor for initialization of '(lambda at input_line_9:2:31)'\u001b[0m\n",
      "            : _T1(_VSTD::forward<_Args1>(_VSTD::get<_I1>(__first_args))...),\n",
      "\u001b[0;1;32m              ^   ~~~~~~~~~~~~~~~~~~~~~~~~~~~~~~~~~~~~~~~~~~~~~~~~~~~~~\n",
      "\u001b[0m\u001b[1m/Applications/Xcode.app/Contents/Developer/Toolchains/XcodeDefault.xctoolchain/usr/include/c++/v1/memory:2329:15: \u001b[0m\u001b[0;1;30mnote: \u001b[0min instantiation of function template specialization\n",
      "      'std::__1::__libcpp_compressed_pair_imp<(lambda at input_line_9:2:31),\n",
      "      std::__1::allocator<(lambda at input_line_9:2:31)>,\n",
      "      3>::__libcpp_compressed_pair_imp<(lambda at input_line_9:2:31) &&, 0>'\n",
      "      requested here\u001b[0m\n",
      "            : base(__pc, _VSTD::move(__first_args), _VSTD::move(__second_args),\n",
      "\u001b[0;1;32m              ^\n",
      "\u001b[0m\u001b[1m/Applications/Xcode.app/Contents/Developer/Toolchains/XcodeDefault.xctoolchain/usr/include/c++/v1/functional:1482:11: \u001b[0m\u001b[0;1;30mnote: \u001b[0min instantiation of function template specialization\n",
      "      'std::__1::__compressed_pair<(lambda at input_line_9:2:31),\n",
      "      std::__1::allocator<(lambda at input_line_9:2:31)>\n",
      "      >::__compressed_pair<(lambda at input_line_9:2:31) &&>' requested here\u001b[0m\n",
      "        : __f_(piecewise_construct, _VSTD::forward_as_tuple(_VSTD::move(__f)),\n",
      "\u001b[0;1;32m          ^\n",
      "\u001b[0m\u001b[1m/Applications/Xcode.app/Contents/Developer/Toolchains/XcodeDefault.xctoolchain/usr/include/c++/v1/functional:1757:42: \u001b[0m\u001b[0;1;30mnote: \u001b[0min instantiation of member function 'std::__1::__function::__func<(lambda at\n",
      "      input_line_9:2:31), std::__1::allocator<(lambda at input_line_9:2:31)>,\n",
      "      double (double)>::__func' requested here\u001b[0m\n",
      "            __f_ = ::new((void*)&__buf_) _FF(_VSTD::move(__f));\n",
      "\u001b[0;1;32m                                         ^\n",
      "\u001b[0m\u001b[1minput_line_9:2:27: \u001b[0m\u001b[0;1;30mnote: \u001b[0min instantiation of function template specialization 'std::__1::function<double\n",
      "      (double)>::function<(lambda at input_line_9:2:31), void>' requested here\u001b[0m\n",
      " function<double(double)> op {[](double value){return value+0.1}}\n",
      "\u001b[0;1;32m                          ^\n",
      "\u001b[0mIn file included from input_line_5:1:\n",
      "In file included from /Applications/Xcode.app/Contents/Developer/Toolchains/XcodeDefault.xctoolchain/usr/include/c++/v1/iostream:38:\n",
      "In file included from /Applications/Xcode.app/Contents/Developer/Toolchains/XcodeDefault.xctoolchain/usr/include/c++/v1/ios:216:\n",
      "In file included from /Applications/Xcode.app/Contents/Developer/Toolchains/XcodeDefault.xctoolchain/usr/include/c++/v1/__locale:15:\n",
      "In file included from /Applications/Xcode.app/Contents/Developer/Toolchains/XcodeDefault.xctoolchain/usr/include/c++/v1/string:470:\n",
      "In file included from /Applications/Xcode.app/Contents/Developer/Toolchains/XcodeDefault.xctoolchain/usr/include/c++/v1/string_view:171:\n",
      "In file included from /Applications/Xcode.app/Contents/Developer/Toolchains/XcodeDefault.xctoolchain/usr/include/c++/v1/__string:56:\n",
      "In file included from /Applications/Xcode.app/Contents/Developer/Toolchains/XcodeDefault.xctoolchain/usr/include/c++/v1/algorithm:640:\n",
      "\u001b[1m/Applications/Xcode.app/Contents/Developer/Toolchains/XcodeDefault.xctoolchain/usr/include/c++/v1/memory:2281:15: \u001b[0m\u001b[0;1;31merror: \u001b[0m\u001b[1mno matching constructor for initialization of '(lambda at input_line_9:2:31)'\u001b[0m\n",
      "            : _T1(_VSTD::forward<_Args1>(_VSTD::get<_I1>(__first_args))...),\n",
      "\u001b[0;1;32m              ^   ~~~~~~~~~~~~~~~~~~~~~~~~~~~~~~~~~~~~~~~~~~~~~~~~~~~~~\n",
      "\u001b[0m\u001b[1m/Applications/Xcode.app/Contents/Developer/Toolchains/XcodeDefault.xctoolchain/usr/include/c++/v1/memory:2329:15: \u001b[0m\u001b[0;1;30mnote: \u001b[0min instantiation of function template specialization\n",
      "      'std::__1::__libcpp_compressed_pair_imp<(lambda at input_line_9:2:31),\n",
      "      std::__1::allocator<(lambda at input_line_9:2:31)>,\n",
      "      3>::__libcpp_compressed_pair_imp<const (lambda at input_line_9:2:31) &,\n",
      "      std::__1::allocator<(lambda at input_line_9:2:31)> &&, 0, 0>' requested\n",
      "      here\u001b[0m\n",
      "            : base(__pc, _VSTD::move(__first_args), _VSTD::move(__second_args),\n",
      "\u001b[0;1;32m              ^\n",
      "\u001b[0m\u001b[1m/Applications/Xcode.app/Contents/Developer/Toolchains/XcodeDefault.xctoolchain/usr/include/c++/v1/functional:1491:11: \u001b[0m\u001b[0;1;30mnote: \u001b[0min instantiation of function template specialization\n",
      "      'std::__1::__compressed_pair<(lambda at input_line_9:2:31),\n",
      "      std::__1::allocator<(lambda at input_line_9:2:31)>\n",
      "      >::__compressed_pair<const (lambda at input_line_9:2:31) &,\n",
      "      std::__1::allocator<(lambda at input_line_9:2:31)> &&>' requested here\u001b[0m\n",
      "        : __f_(piecewise_construct, _VSTD::forward_as_tuple(__f),\n",
      "\u001b[0;1;32m          ^\n",
      "\u001b[0m\u001b[1m/Applications/Xcode.app/Contents/Developer/Toolchains/XcodeDefault.xctoolchain/usr/include/c++/v1/functional:1518:26: \u001b[0m\u001b[0;1;30mnote: \u001b[0min instantiation of member function 'std::__1::__function::__func<(lambda at\n",
      "      input_line_9:2:31), std::__1::allocator<(lambda at input_line_9:2:31)>,\n",
      "      double (double)>::__func' requested here\u001b[0m\n",
      "    ::new (__hold.get()) __func(__f_.first(), _Alloc(__a));\n",
      "\u001b[0;1;32m                         ^\n",
      "\u001b[0m\u001b[1m/Applications/Xcode.app/Contents/Developer/Toolchains/XcodeDefault.xctoolchain/usr/include/c++/v1/functional:1481:14: \u001b[0m\u001b[0;1;30mnote: \u001b[0min instantiation of member function 'std::__1::__function::__func<(lambda at\n",
      "      input_line_9:2:31), std::__1::allocator<(lambda at input_line_9:2:31)>,\n",
      "      double (double)>::__clone' requested here\u001b[0m\n",
      "    explicit __func(_Fp&& __f)\n",
      "\u001b[0;1;32m             ^\n",
      "\u001b[0m\u001b[1m/Applications/Xcode.app/Contents/Developer/Toolchains/XcodeDefault.xctoolchain/usr/include/c++/v1/functional:1757:42: \u001b[0m\u001b[0;1;30mnote: \u001b[0min instantiation of member function 'std::__1::__function::__func<(lambda at\n",
      "      input_line_9:2:31), std::__1::allocator<(lambda at input_line_9:2:31)>,\n",
      "      double (double)>::__func' requested here\u001b[0m\n",
      "            __f_ = ::new((void*)&__buf_) _FF(_VSTD::move(__f));\n",
      "\u001b[0;1;32m                                         ^\n",
      "\u001b[0m\u001b[1minput_line_9:2:27: \u001b[0m\u001b[0;1;30mnote: \u001b[0min instantiation of function template specialization 'std::__1::function<double\n",
      "      (double)>::function<(lambda at input_line_9:2:31), void>' requested here\u001b[0m\n",
      " function<double(double)> op {[](double value){return value+0.1}}\n",
      "\u001b[0;1;32m                          ^\n",
      "\u001b[0mIn file included from input_line_5:1:\n",
      "In file included from /Applications/Xcode.app/Contents/Developer/Toolchains/XcodeDefault.xctoolchain/usr/include/c++/v1/iostream:38:\n",
      "In file included from /Applications/Xcode.app/Contents/Developer/Toolchains/XcodeDefault.xctoolchain/usr/include/c++/v1/ios:216:\n",
      "In file included from /Applications/Xcode.app/Contents/Developer/Toolchains/XcodeDefault.xctoolchain/usr/include/c++/v1/__locale:15:\n",
      "In file included from /Applications/Xcode.app/Contents/Developer/Toolchains/XcodeDefault.xctoolchain/usr/include/c++/v1/string:470:\n",
      "In file included from /Applications/Xcode.app/Contents/Developer/Toolchains/XcodeDefault.xctoolchain/usr/include/c++/v1/string_view:171:\n",
      "In file included from /Applications/Xcode.app/Contents/Developer/Toolchains/XcodeDefault.xctoolchain/usr/include/c++/v1/__string:56:\n",
      "In file included from /Applications/Xcode.app/Contents/Developer/Toolchains/XcodeDefault.xctoolchain/usr/include/c++/v1/algorithm:640:\n",
      "\u001b[1m/Applications/Xcode.app/Contents/Developer/Toolchains/XcodeDefault.xctoolchain/usr/include/c++/v1/memory:2281:15: \u001b[0m\u001b[0;1;31merror: \u001b[0m\u001b[1mno matching constructor for initialization of '(lambda at input_line_9:2:31)'\u001b[0m\n",
      "            : _T1(_VSTD::forward<_Args1>(_VSTD::get<_I1>(__first_args))...),\n"
     ]
    },
    {
     "name": "stderr",
     "output_type": "stream",
     "text": [
      "\u001b[0;1;32m              ^   ~~~~~~~~~~~~~~~~~~~~~~~~~~~~~~~~~~~~~~~~~~~~~~~~~~~~~\n",
      "\u001b[0m\u001b[1m/Applications/Xcode.app/Contents/Developer/Toolchains/XcodeDefault.xctoolchain/usr/include/c++/v1/memory:2329:15: \u001b[0m\u001b[0;1;30mnote: \u001b[0min instantiation of function template specialization\n",
      "      'std::__1::__libcpp_compressed_pair_imp<(lambda at input_line_9:2:31),\n",
      "      std::__1::allocator<(lambda at input_line_9:2:31)>,\n",
      "      3>::__libcpp_compressed_pair_imp<const (lambda at input_line_9:2:31) &,\n",
      "      const std::__1::allocator<(lambda at input_line_9:2:31)> &, 0, 0>'\n",
      "      requested here\u001b[0m\n",
      "            : base(__pc, _VSTD::move(__first_args), _VSTD::move(__second_args),\n",
      "\u001b[0;1;32m              ^\n",
      "\u001b[0m\u001b[1m/Applications/Xcode.app/Contents/Developer/Toolchains/XcodeDefault.xctoolchain/usr/include/c++/v1/functional:1486:11: \u001b[0m\u001b[0;1;30mnote: \u001b[0min instantiation of function template specialization\n",
      "      'std::__1::__compressed_pair<(lambda at input_line_9:2:31),\n",
      "      std::__1::allocator<(lambda at input_line_9:2:31)>\n",
      "      >::__compressed_pair<const (lambda at input_line_9:2:31) &, const\n",
      "      std::__1::allocator<(lambda at input_line_9:2:31)> &>' requested here\u001b[0m\n",
      "        : __f_(piecewise_construct, _VSTD::forward_as_tuple(__f),\n",
      "\u001b[0;1;32m          ^\n",
      "\u001b[0m\u001b[1m/Applications/Xcode.app/Contents/Developer/Toolchains/XcodeDefault.xctoolchain/usr/include/c++/v1/functional:1526:17: \u001b[0m\u001b[0;1;30mnote: \u001b[0min instantiation of member function 'std::__1::__function::__func<(lambda at\n",
      "      input_line_9:2:31), std::__1::allocator<(lambda at input_line_9:2:31)>,\n",
      "      double (double)>::__func' requested here\u001b[0m\n",
      "    ::new (__p) __func(__f_.first(), __f_.second());\n",
      "\u001b[0;1;32m                ^\n",
      "\u001b[0m\u001b[1m/Applications/Xcode.app/Contents/Developer/Toolchains/XcodeDefault.xctoolchain/usr/include/c++/v1/functional:1481:14: \u001b[0m\u001b[0;1;30mnote: \u001b[0min instantiation of member function 'std::__1::__function::__func<(lambda at\n",
      "      input_line_9:2:31), std::__1::allocator<(lambda at input_line_9:2:31)>,\n",
      "      double (double)>::__clone' requested here\u001b[0m\n",
      "    explicit __func(_Fp&& __f)\n",
      "\u001b[0;1;32m             ^\n",
      "\u001b[0m\u001b[1m/Appli"
     ]
    }
   ],
   "source": [
    "function<double(double)> op {[](double value){return value+0.1;}}"
   ]
  },
  {
   "cell_type": "code",
   "execution_count": 6,
   "metadata": {
    "scrolled": true
   },
   "outputs": [
    {
     "data": {
      "text/plain": [
       "(std::vector<int> &) { 1, 2, 3, 4, 5 }\n"
      ]
     },
     "execution_count": 6,
     "metadata": {},
     "output_type": "execute_result"
    }
   ],
   "source": [
    "myvec\n",
    "int addNum = 10;"
   ]
  },
  {
   "cell_type": "code",
   "execution_count": 29,
   "metadata": {},
   "outputs": [
    {
     "data": {
      "text/plain": [
       "((lambda)) @0x7fed7867d6a0\n"
      ]
     },
     "execution_count": 29,
     "metadata": {},
     "output_type": "execute_result"
    }
   ],
   "source": [
    "for_each(begin(myvec),end(myvec),[](int &value){value = addNum+value;addNum++;})"
   ]
  },
  {
   "cell_type": "code",
   "execution_count": 30,
   "metadata": {},
   "outputs": [
    {
     "data": {
      "text/plain": [
       "(int) 15\n"
      ]
     },
     "execution_count": 30,
     "metadata": {},
     "output_type": "execute_result"
    }
   ],
   "source": [
    "addNum"
   ]
  },
  {
   "cell_type": "code",
   "execution_count": null,
   "metadata": {},
   "outputs": [],
   "source": []
  }
 ],
 "metadata": {
  "kernelspec": {
   "display_name": "C++14",
   "language": "",
   "name": "cling-cpp14"
  },
  "language_info": {
   "codemirror_mode": "c++",
   "file_extension": ".c++",
   "mimetype": "text/x-c++src",
   "name": "c++"
  }
 },
 "nbformat": 4,
 "nbformat_minor": 2
}
